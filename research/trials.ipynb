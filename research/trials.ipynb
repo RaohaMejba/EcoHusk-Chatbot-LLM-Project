{
 "cells": [
  {
   "cell_type": "code",
   "execution_count": 5,
   "id": "3a6d8bd8",
   "metadata": {},
   "outputs": [],
   "source": [
    "from langchain.document_loaders import PyPDFLoader, DirectoryLoader\n",
    "from langchain.text_splitter import RecursiveCharacterTextSplitter"
   ]
  },
  {
   "cell_type": "code",
   "execution_count": 6,
   "id": "580e5323",
   "metadata": {},
   "outputs": [],
   "source": [
    "#Extract data from the PDF Document\n",
    "def load_pdf_file(data):\n",
    "    loader = DirectoryLoader(data,\n",
    "                    glob=\"*.pdf\",\n",
    "                    loader_cls=PyPDFLoader)\n",
    "    \n",
    "    documents = loader.load()\n",
    "\n",
    "    return documents"
   ]
  },
  {
   "cell_type": "code",
   "execution_count": 7,
   "id": "48c0dfb9",
   "metadata": {},
   "outputs": [],
   "source": [
    "extracted_data = load_pdf_file(data=\"../Data\")"
   ]
  },
  {
   "cell_type": "code",
   "execution_count": 8,
   "id": "5d87c8b2",
   "metadata": {},
   "outputs": [
    {
     "data": {
      "text/plain": [
       "[Document(metadata={'producer': 'Microsoft® Word 2019', 'creator': 'Microsoft® Word 2019', 'creationdate': '2025-05-19T05:14:11+08:00', 'author': 'RAOHA BIN MEZBA', 'moddate': '2025-05-19T05:14:11+08:00', 'source': '../Data/EcoHusk_Report.pdf', 'total_pages': 9, 'page': 0, 'page_label': '1'}, page_content='EcoHusk Project Report \\n \\n \\n1. Project Background \\nThe idea of our project EcoHusk started during my bachelor’s study when I participated in a \\ncompetition at my university. It was organized by a Chinese electricity production company, \\nand we were asked to write a report about the electricity production scenario of our home \\ncountry. While researching, I found something very surprising about Bangladesh: even \\nthough more than 95% of people have access to electricity, over 90% of our electricity still \\ncomes from fossil fuels like coal and gas. These energy sources are harmful to the \\nenvironment because they release a lot of pollution and carbon dioxide. Also they are not \\nsustainable and our fossil fuel reserve is finishing very quickly. \\nI started thinking — what could be a better, cleaner, and more sustainable option for a \\ncountry like Bangladesh? \\nWhile exploring different renewable energy options, I came across two interesting ideas: \\nfloating wind turbines and rice husk-based electricity. Floating wind turbines were interesting \\nbut too expensive to be a practical alternative. But rice husk — which is a by-product of rice \\nprocessing — seemed very promising. Bangladesh produces a lot of rice, and rice husk is \\nusually thrown away or burned, which causes air and water pollution. I found that although \\nsome countries were using rice husk to generate electricity, those methods were not eco-\\nfriendly and still produced pollution. \\nAt the same time, I was also attending different events related to the United Nations’ \\nSustainable Development Goals (SDGs). I even got the chance to speak at the Youth Summit \\norganized by the United Nations Youth and Student Association of Bangladesh (UNYSAB), \\none of the biggest youth summits of the South Asian region. There, I met many people \\nworking on sustainability, and I learned a lot about clean energy and environmental solutions. \\nWith all that knowledge, I started thinking deeply about how we could use rice husks in a \\nbetter way. And I started reading about rice husk’s properties and how we can utilize rice \\nhusk in different ways. \\nThat’s how the idea of EcoHusk came to life. We designed a complete, eco-friendly, zero-\\nwaste system that uses rice husk to produce: \\n• Electricity \\n• Activated carbon \\n• Nitrogen gas \\n• Clean, purified drinking water \\n• Eco-friendly bricks and concrete mixtures (made from rice husk ash) \\nThe most important thing about this system is that nothing is wasted. Every by-product is \\nreused in another step of the system, making it a perfect circular solution.'),\n",
       " Document(metadata={'producer': 'Microsoft® Word 2019', 'creator': 'Microsoft® Word 2019', 'creationdate': '2025-05-19T05:14:11+08:00', 'author': 'RAOHA BIN MEZBA', 'moddate': '2025-05-19T05:14:11+08:00', 'source': '../Data/EcoHusk_Report.pdf', 'total_pages': 9, 'page': 1, 'page_label': '2'}, page_content='Later, we also realized that this idea is not only suitable for Bangladesh — it could be \\nextremely useful for China as well. China is the largest rice-producing country in the world, \\nand it generates a massive amount of rice husk every year. Sadly, a lot of it is either dumped \\ninto water or openly burned, which causes serious environmental pollution. But since China \\nalready has all the machines and technologies needed for this system available in its domestic \\nmarket, implementing this project here is very much possible and cost-effective. \\nIn short, EcoHusk is a powerful and practical solution that turns agricultural waste into \\nvaluable resources, supports sustainability, reduces pollution, and promotes a cleaner future \\nfor both Bangladesh, China, and many other rice-producing countries. \\n \\n2. Research & Development Process \\nOnce the idea of EcoHusk took shape, I shared it with my team members, and we began discussing \\nhow to turn this concept into a complete and working solution. We identified the main stages of our \\nproposed ecosystem — from gasification to electricity generation, water purification, and brick \\nproduction — and divided these parts among ourselves for further research. Each team member \\nfocused on specific sections to study their feasibility and real-world applications. \\nAfter researching each stage of the system separately, we were very encouraged to find that the \\nwhole ecosystem could actually be implemented in real life. All the components — from gasifiers to \\ncarbon activation, water treatment, and brick-making — were already available in existing \\ntechnologies. The challenge was to connect them in a smart and eco-friendly way that avoided \\nwaste and pollution. \\nOvercoming Key Challenges \\nOne of the biggest challenges we faced during the early development phase was realizing that most \\nof the gasifiers currently used for rice husk energy production are not environmentally friendly. They \\nuse open combustion, which releases large amounts of carbon dioxide (CO₂) and harmful gases into \\nthe atmosphere. \\nTo solve this problem, our team members who study mechanical engineering and material science \\ncame up with a solution: use a closed combustion system with controlled oxygen levels. This special \\ntype of gasifier does not release significant amounts of CO₂, making it much more eco-friendly. We \\nchose to modify an existing downdraft gasifier by adding a declined suction net inside the pyrolysis \\nzone, which allowed us to collect carbon particles efficiently. These carbon particles can later be \\nprocessed into activated carbon, which is a highly valuable material used in batteries and medical \\nfilters.  \\nResearch Tools and Design Process \\nTo support our concept with global insights, we studied various rice husk power plants in countries \\nlike India, Nigeria, and the Philippines. This helped us understand what worked and what didn’t in \\nthose regions. We then used SolidWorks to design a complete 3D model of our EcoHusk ecosystem.'),\n",
       " Document(metadata={'producer': 'Microsoft® Word 2019', 'creator': 'Microsoft® Word 2019', 'creationdate': '2025-05-19T05:14:11+08:00', 'author': 'RAOHA BIN MEZBA', 'moddate': '2025-05-19T05:14:11+08:00', 'source': '../Data/EcoHusk_Report.pdf', 'total_pages': 9, 'page': 2, 'page_label': '3'}, page_content='Every machine and component — from the gasifier to the water treatment units and brick \\nproduction equipment — was carefully modeled and visualized. \\nWe also used 3D printing to create physical models of the entire system, which helped us explain \\nthe concept clearly in exhibitions and competitions. These visual representations made it easier for \\nothers to understand how each part of the system fits into the bigger picture and contributes to a \\nzero-waste circular economy. \\nIn short, our research and development process involved brainstorming, technical innovation, \\ndesign, and collaboration — all aimed at building a cleaner, smarter, and more sustainable future \\nusing rice husk. \\n \\n3. Technical Approach \\nThe EcoHusk project is based on a smart, closed-loop system that transforms rice husk — an \\nagricultural by-product — into multiple useful outputs without creating any waste. The entire \\necosystem is designed to be sustainable, efficient, and environmentally friendly. The process is \\ndivided into five key stages: \\n \\n Step 1: Modified Downdraft Gasification Process \\nThe process starts with collecting rice husks, which are sent into a specially modified downdraft \\ngasifier. In this stage: \\n• A closed combustion system with a controlled oxygen environment is used instead of \\ntraditional open burning. \\n• This helps minimize CO₂ emissions and environmental pollution. \\n• Inside the pyrolysis zone, we’ve installed a declined suction net to collect carbon particles, \\nwhich would otherwise be wasted or pollute the air. \\n• The gasification process produces: \\no Unprocessed syngas \\no Carbon particles \\no Rice Husk Ash (RHA) \\n \\nStep 2: Electricity Generation & Nitrogen Separation \\nThe unprocessed syngas produced in Step 1 is then processed in the following way: \\n• It enters a cyclone separator, which extracts pure nitrogen gas. \\n• The purified syngas is then fed into a gas turbine, where it is burned to generate renewable \\nelectricity. \\n• The system can produce approximately 1.6–1.8 kilowatt-hours per kilogram of rice husk, \\nadding up to around 32 terawatt-hours per year on a national scale of China.'),\n",
       " Document(metadata={'producer': 'Microsoft® Word 2019', 'creator': 'Microsoft® Word 2019', 'creationdate': '2025-05-19T05:14:11+08:00', 'author': 'RAOHA BIN MEZBA', 'moddate': '2025-05-19T05:14:11+08:00', 'source': '../Data/EcoHusk_Report.pdf', 'total_pages': 9, 'page': 3, 'page_label': '4'}, page_content='Step 3: Activated Carbon Production \\n• The carbon particles collected in the pyrolysis zone are sent to a carbon activation plant. \\n• Here, they are thermally treated to create high-quality activated carbon. \\n• This material has important industrial uses — especially in battery production, medical \\nfiltration, and air/water purification systems. \\nStep 4: Water Purification Using Rice Husk Ash \\n• The RHA (Rice Husk Ash) collected during gasification is used in water treatment plants. \\n• Thanks to its high silicon dioxide (SiO₂) content, RHA can remove salt and other impurities \\nfrom water. \\n• It can reduce water salinity from 35,000 ppm (seawater level) to below 500 ppm, making it \\nsuitable for drinking, especially in coastal areas. \\nStep 5: RHA Brick and Concrete Production \\n• After water purification, the used RHA is dried in a drying chamber. \\n• The dry ash is then used to make eco-friendly bricks and concrete mixtures (for its \\npozzolanic properties) rather then throwing them away in the environment. \\n• Replacing 50% of cement with RHA: \\no Reduces concrete production cost by 25% \\no Increases durability \\no Lowers indoor temperature by up to 6°C \\no Reduces noise by 10 dB \\no Maintains a water absorption rate of just 19% of its own weight \\nWhat makes this approach unique is that every by-product is reused:'),\n",
       " Document(metadata={'producer': 'Microsoft® Word 2019', 'creator': 'Microsoft® Word 2019', 'creationdate': '2025-05-19T05:14:11+08:00', 'author': 'RAOHA BIN MEZBA', 'moddate': '2025-05-19T05:14:11+08:00', 'source': '../Data/EcoHusk_Report.pdf', 'total_pages': 9, 'page': 4, 'page_label': '5'}, page_content='• The syngas gives electricity \\n• The carbon becomes activated carbon \\n• The RHA purifies water \\n• The used RHA is recycled into bricks \\nAll technologies used in this ecosystem are either already available or can be manufactured \\nusing machines easily sourced in China. The process is fully scalable, adaptable for both \\nrural and industrial setups, and designed to support both environmental protection and \\neconomic growth. \\n \\n4. Technical Advantages \\nThe EcoHusk system is not just a new method — it is a technological upgrade that offers multiple \\nadvantages over traditional rice husk usage and existing biomass energy systems. It combines energy \\nproduction, material recycling, and environmental protection in a single integrated process. \\nHere are the key technical advantages: \\n \\n1. Zero-Waste Ecosystem \\nUnlike conventional systems that produce waste or harmful by-products, EcoHusk creates a circular \\necosystem: \\n• Every stage produces something valuable. \\n• All by-products are reused in other stages (e.g., used ash becomes construction material). \\n• This ensures no part of the rice husk goes to waste. \\n2. Closed Combustion = Minimal Emissions \\nTraditional rice husk combustion methods release carbon dioxide and pollutants into the air, \\ncontributing to climate change and air pollution. In contrast: \\n• EcoHusk uses a closed combustion system in a controlled oxygen environment. \\n• This significantly reduces CO₂ emissions and prevents the release of harmful gases. \\n3. Advanced Gasifier Technology \\n• The system uses a modified downdraft gasifier with an added declined suction net to \\ncollect carbon particles. \\n• Most existing systems do not collect these carbon particles, which results in material loss \\nand pollution. \\n• EcoHusk converts this carbon into activated carbon, a high-value product. \\n4. Multi-Stage Output: Energy + Clean Water + Materials \\nMost rice husk-based power systems focus only on electricity. But EcoHusk goes further:'),\n",
       " Document(metadata={'producer': 'Microsoft® Word 2019', 'creator': 'Microsoft® Word 2019', 'creationdate': '2025-05-19T05:14:11+08:00', 'author': 'RAOHA BIN MEZBA', 'moddate': '2025-05-19T05:14:11+08:00', 'source': '../Data/EcoHusk_Report.pdf', 'total_pages': 9, 'page': 5, 'page_label': '6'}, page_content='• Produces electricity, nitrogen gas, activated carbon, clean water, and eco-bricks — all from \\none input. \\n• This multi-output design increases the economic and environmental value of the system. \\n5. Enhanced Building Materials \\n• Traditional bricks require a lot of cement and contribute to CO₂ emissions during production. \\n• EcoHusk bricks, made with rice husk ash, are lighter, more durable, and more eco-friendly. \\n• Benefits include: \\no 25% cost savings \\no Lower indoor temperature (up to 6°C) \\no Noise reduction (10 dB) \\no Lower water absorption (19%) \\n6. Scalability & Local Suitability \\n• All required machines (gasifiers, turbines, separators, drying chambers, etc.) are already \\navailable in countries like China and India. \\n• This makes the system easy to implement and scale, especially in rice-producing regions. \\n• Since China and Bangladesh both generate millions of tons of rice husk annually, this system \\nhas huge local and national potential. \\nIn summary, EcoHusk stands out because it’s not just about producing energy — it’s about doing it \\ncleanly, efficiently, and sustainably, while also creating useful by-products that support other \\nindustries. It’s an all-in-one solution for a greener future. \\n \\n5. Technical Achievements \\nSo far, our team has successfully completed the initial research and development phase of the \\nEcoHusk project. Through teamwork, technical study, design modeling, and strategic planning, we \\nhave built a strong foundation for this innovative, zero-waste ecosystem based on rice husk \\nutilization. \\nA key recognition of our work came in 2024, when our project was awarded the “Best Team Award” \\nat the 第五届中外学生科技创新大赛 (5th China-Foreign Students Scientific Innovation \\nCompetition) held at Yangzhou University. This achievement was a significant milestone for us and \\nproved that our idea has real innovation potential and academic value. \\nWhat We’ve Accomplished So Far: \\n• Completed theoretical research on each stage of the ecosystem \\n• Studied global rice husk energy systems and environmental impacts \\n• Designed the entire system in 3D using SolidWorks \\n• Created 3D-printed visual models for demonstration purposes \\n• Identified practical machinery and materials that are available in local markets'),\n",
       " Document(metadata={'producer': 'Microsoft® Word 2019', 'creator': 'Microsoft® Word 2019', 'creationdate': '2025-05-19T05:14:11+08:00', 'author': 'RAOHA BIN MEZBA', 'moddate': '2025-05-19T05:14:11+08:00', 'source': '../Data/EcoHusk_Report.pdf', 'total_pages': 9, 'page': 6, 'page_label': '7'}, page_content='Our Next Steps: \\nWith enough organizational and financial support, we are ready to move forward to the \\nexperimental stage. As part of this, we plan to: \\n• Personally visit rice husk power generation plants in countries like India, Nigeria, and the \\nPhilippines \\n• Collect real-world data, ash samples, and operational feedback \\n• Begin small-scale laboratory experiments to validate the effectiveness of each stage, \\nespecially water purification and activated carbon production \\nMost importantly, we have plan to build a small-scale prototype of our modified downdraft \\ngasifier. This prototype will be a working version of our core system and will allow us to: \\n• Test the feasibility of closed combustion in controlled oxygen environments \\n• Validate the effectiveness of carbon particle collection \\n• Analyze the system’s energy efficiency, emission levels, and ash output \\nThis hands-on testing will provide the essential data we need to optimize our model, support \\npotential patent applications, and prepare for pilot implementation on a larger scale. \\n \\n6. Economic Benefits \\nOne of the strongest aspects of the EcoHusk project is that it is not only environmentally sustainable \\nbut also economically viable. It transforms agricultural waste into multiple valuable products while \\nreducing costs in construction, energy, and water purification. This makes it highly attractive for \\ngovernments, investors, and communities seeking both economic and ecological returns. \\nLow Cost, High Value \\nOur initial cost analysis shows that the full implementation of the EcoHusk system — including \\ngasifiers, turbines, carbon activation units, water treatment facilities, drying chambers, and brick-\\nmaking tools — would require a total investment of around $350,000 to $500,000. \\nWhile this may seem like a large figure, it is quite cost-effective compared to the long-term value it \\ncreates: \\n• Electricity from rice husk is renewable and can offset fossil fuel costs. \\n• Activated carbon has a high market demand, especially in battery, healthcare, and water \\npurification industries. \\n• Nitrogen gas is useful in many industrial applications. \\n• Clean drinking water is critical in coastal and water-scarce areas. \\n• Eco-friendly bricks reduce the need for traditional cement, lowering both construction costs \\nand emissions. \\nTogether, these outputs not only reduce environmental impact but also generate multiple income \\nstreams.'),\n",
       " Document(metadata={'producer': 'Microsoft® Word 2019', 'creator': 'Microsoft® Word 2019', 'creationdate': '2025-05-19T05:14:11+08:00', 'author': 'RAOHA BIN MEZBA', 'moddate': '2025-05-19T05:14:11+08:00', 'source': '../Data/EcoHusk_Report.pdf', 'total_pages': 9, 'page': 7, 'page_label': '8'}, page_content='Strong Return on Investment (ROI) \\n• Using just the rice husk waste that is otherwise dumped or burned, our system can produce \\nup to 32 terawatt-hours of electricity per year on a national scale (e.g., in China or \\nBangladesh). \\n• Replacing 50% of cement with rice husk ash in concrete reduces production cost by around \\n25%. \\n• Bricks made from RHA offer better insulation and durability, which can lower cooling and \\nmaintenance costs for buildings. \\nThe system also reduces the costs of waste management, which is a major expense in agricultural \\nand urban areas. \\nMarket Potential \\nThe market potential of EcoHusk is strong in several sectors: \\n• The global demand for activated carbon is rising due to its use in energy storage and \\nmedical products. \\n• The need for water purification is growing rapidly, especially in coastal regions where \\nseawater salinity is high. \\n• There is increasing interest in eco-friendly construction materials, such as RHA bricks, \\nbecause of rising cement prices and environmental regulations. \\n• The renewable energy sector continues to expand globally due to sustainability goals and \\nclimate action plans. \\nGiven that all necessary machines and materials are available in China, the project can be \\nimplemented with low logistical barriers and locally sourced technology. \\nScalability and Funding Opportunities \\nOur system is designed to be scalable — it can be adapted to small rural villages or large industrial \\nzones. This opens up opportunities for: \\n• Government grants in green energy and rural development \\n• Private sector investment in renewable energy and construction \\n• International support from sustainability-focused organizations \\nWith initial funding, we can begin building a pilot project or demonstration facility. This would help \\nattract further investment, validate our economic model, and open doors to commercial expansion.'),\n",
       " Document(metadata={'producer': 'Microsoft® Word 2019', 'creator': 'Microsoft® Word 2019', 'creationdate': '2025-05-19T05:14:11+08:00', 'author': 'RAOHA BIN MEZBA', 'moddate': '2025-05-19T05:14:11+08:00', 'source': '../Data/EcoHusk_Report.pdf', 'total_pages': 9, 'page': 8, 'page_label': '9'}, page_content='')]"
      ]
     },
     "execution_count": 8,
     "metadata": {},
     "output_type": "execute_result"
    }
   ],
   "source": [
    "extracted_data"
   ]
  },
  {
   "cell_type": "code",
   "execution_count": null,
   "id": "84c8d631",
   "metadata": {},
   "outputs": [],
   "source": [
    "#Spliting data into text chunks\n",
    "def text_split(extracted_data):\n",
    "    text_splitter = RecursiveCharacterTextSplitter(chunk_size = 500, chunk_overlap = 30)\n",
    "    text_chunks = text_splitter.split_documents(extracted_data)\n",
    "    return text_chunks"
   ]
  },
  {
   "cell_type": "code",
   "execution_count": 10,
   "id": "a176f7a8",
   "metadata": {},
   "outputs": [
    {
     "name": "stdout",
     "output_type": "stream",
     "text": [
      "Total number of chunks: 42\n"
     ]
    }
   ],
   "source": [
    "text_chunks = text_split(extracted_data)\n",
    "print(f\"Total number of chunks: {len(text_chunks)}\")"
   ]
  },
  {
   "cell_type": "code",
   "execution_count": 11,
   "id": "3abb2304",
   "metadata": {},
   "outputs": [
    {
     "data": {
      "text/plain": [
       "[Document(metadata={'producer': 'Microsoft® Word 2019', 'creator': 'Microsoft® Word 2019', 'creationdate': '2025-05-19T05:14:11+08:00', 'author': 'RAOHA BIN MEZBA', 'moddate': '2025-05-19T05:14:11+08:00', 'source': '../Data/EcoHusk_Report.pdf', 'total_pages': 9, 'page': 0, 'page_label': '1'}, page_content='EcoHusk Project Report \\n \\n \\n1. Project Background \\nThe idea of our project EcoHusk started during my bachelor’s study when I participated in a \\ncompetition at my university. It was organized by a Chinese electricity production company, \\nand we were asked to write a report about the electricity production scenario of our home \\ncountry. While researching, I found something very surprising about Bangladesh: even'),\n",
       " Document(metadata={'producer': 'Microsoft® Word 2019', 'creator': 'Microsoft® Word 2019', 'creationdate': '2025-05-19T05:14:11+08:00', 'author': 'RAOHA BIN MEZBA', 'moddate': '2025-05-19T05:14:11+08:00', 'source': '../Data/EcoHusk_Report.pdf', 'total_pages': 9, 'page': 0, 'page_label': '1'}, page_content='though more than 95% of people have access to electricity, over 90% of our electricity still \\ncomes from fossil fuels like coal and gas. These energy sources are harmful to the \\nenvironment because they release a lot of pollution and carbon dioxide. Also they are not \\nsustainable and our fossil fuel reserve is finishing very quickly. \\nI started thinking — what could be a better, cleaner, and more sustainable option for a \\ncountry like Bangladesh?'),\n",
       " Document(metadata={'producer': 'Microsoft® Word 2019', 'creator': 'Microsoft® Word 2019', 'creationdate': '2025-05-19T05:14:11+08:00', 'author': 'RAOHA BIN MEZBA', 'moddate': '2025-05-19T05:14:11+08:00', 'source': '../Data/EcoHusk_Report.pdf', 'total_pages': 9, 'page': 0, 'page_label': '1'}, page_content='country like Bangladesh? \\nWhile exploring different renewable energy options, I came across two interesting ideas: \\nfloating wind turbines and rice husk-based electricity. Floating wind turbines were interesting \\nbut too expensive to be a practical alternative. But rice husk — which is a by-product of rice \\nprocessing — seemed very promising. Bangladesh produces a lot of rice, and rice husk is \\nusually thrown away or burned, which causes air and water pollution. I found that although'),\n",
       " Document(metadata={'producer': 'Microsoft® Word 2019', 'creator': 'Microsoft® Word 2019', 'creationdate': '2025-05-19T05:14:11+08:00', 'author': 'RAOHA BIN MEZBA', 'moddate': '2025-05-19T05:14:11+08:00', 'source': '../Data/EcoHusk_Report.pdf', 'total_pages': 9, 'page': 0, 'page_label': '1'}, page_content='some countries were using rice husk to generate electricity, those methods were not eco-\\nfriendly and still produced pollution. \\nAt the same time, I was also attending different events related to the United Nations’ \\nSustainable Development Goals (SDGs). I even got the chance to speak at the Youth Summit \\norganized by the United Nations Youth and Student Association of Bangladesh (UNYSAB), \\none of the biggest youth summits of the South Asian region. There, I met many people'),\n",
       " Document(metadata={'producer': 'Microsoft® Word 2019', 'creator': 'Microsoft® Word 2019', 'creationdate': '2025-05-19T05:14:11+08:00', 'author': 'RAOHA BIN MEZBA', 'moddate': '2025-05-19T05:14:11+08:00', 'source': '../Data/EcoHusk_Report.pdf', 'total_pages': 9, 'page': 0, 'page_label': '1'}, page_content='working on sustainability, and I learned a lot about clean energy and environmental solutions. \\nWith all that knowledge, I started thinking deeply about how we could use rice husks in a \\nbetter way. And I started reading about rice husk’s properties and how we can utilize rice \\nhusk in different ways. \\nThat’s how the idea of EcoHusk came to life. We designed a complete, eco-friendly, zero-\\nwaste system that uses rice husk to produce: \\n• Electricity \\n• Activated carbon \\n• Nitrogen gas'),\n",
       " Document(metadata={'producer': 'Microsoft® Word 2019', 'creator': 'Microsoft® Word 2019', 'creationdate': '2025-05-19T05:14:11+08:00', 'author': 'RAOHA BIN MEZBA', 'moddate': '2025-05-19T05:14:11+08:00', 'source': '../Data/EcoHusk_Report.pdf', 'total_pages': 9, 'page': 0, 'page_label': '1'}, page_content='• Nitrogen gas \\n• Clean, purified drinking water \\n• Eco-friendly bricks and concrete mixtures (made from rice husk ash) \\nThe most important thing about this system is that nothing is wasted. Every by-product is \\nreused in another step of the system, making it a perfect circular solution.'),\n",
       " Document(metadata={'producer': 'Microsoft® Word 2019', 'creator': 'Microsoft® Word 2019', 'creationdate': '2025-05-19T05:14:11+08:00', 'author': 'RAOHA BIN MEZBA', 'moddate': '2025-05-19T05:14:11+08:00', 'source': '../Data/EcoHusk_Report.pdf', 'total_pages': 9, 'page': 1, 'page_label': '2'}, page_content='Later, we also realized that this idea is not only suitable for Bangladesh — it could be \\nextremely useful for China as well. China is the largest rice-producing country in the world, \\nand it generates a massive amount of rice husk every year. Sadly, a lot of it is either dumped \\ninto water or openly burned, which causes serious environmental pollution. But since China \\nalready has all the machines and technologies needed for this system available in its domestic'),\n",
       " Document(metadata={'producer': 'Microsoft® Word 2019', 'creator': 'Microsoft® Word 2019', 'creationdate': '2025-05-19T05:14:11+08:00', 'author': 'RAOHA BIN MEZBA', 'moddate': '2025-05-19T05:14:11+08:00', 'source': '../Data/EcoHusk_Report.pdf', 'total_pages': 9, 'page': 1, 'page_label': '2'}, page_content='market, implementing this project here is very much possible and cost-effective. \\nIn short, EcoHusk is a powerful and practical solution that turns agricultural waste into \\nvaluable resources, supports sustainability, reduces pollution, and promotes a cleaner future \\nfor both Bangladesh, China, and many other rice-producing countries. \\n \\n2. Research & Development Process \\nOnce the idea of EcoHusk took shape, I shared it with my team members, and we began discussing'),\n",
       " Document(metadata={'producer': 'Microsoft® Word 2019', 'creator': 'Microsoft® Word 2019', 'creationdate': '2025-05-19T05:14:11+08:00', 'author': 'RAOHA BIN MEZBA', 'moddate': '2025-05-19T05:14:11+08:00', 'source': '../Data/EcoHusk_Report.pdf', 'total_pages': 9, 'page': 1, 'page_label': '2'}, page_content='how to turn this concept into a complete and working solution. We identified the main stages of our \\nproposed ecosystem — from gasification to electricity generation, water purification, and brick \\nproduction — and divided these parts among ourselves for further research. Each team member \\nfocused on specific sections to study their feasibility and real-world applications. \\nAfter researching each stage of the system separately, we were very encouraged to find that the'),\n",
       " Document(metadata={'producer': 'Microsoft® Word 2019', 'creator': 'Microsoft® Word 2019', 'creationdate': '2025-05-19T05:14:11+08:00', 'author': 'RAOHA BIN MEZBA', 'moddate': '2025-05-19T05:14:11+08:00', 'source': '../Data/EcoHusk_Report.pdf', 'total_pages': 9, 'page': 1, 'page_label': '2'}, page_content='whole ecosystem could actually be implemented in real life. All the components — from gasifiers to \\ncarbon activation, water treatment, and brick-making — were already available in existing \\ntechnologies. The challenge was to connect them in a smart and eco-friendly way that avoided \\nwaste and pollution. \\nOvercoming Key Challenges \\nOne of the biggest challenges we faced during the early development phase was realizing that most'),\n",
       " Document(metadata={'producer': 'Microsoft® Word 2019', 'creator': 'Microsoft® Word 2019', 'creationdate': '2025-05-19T05:14:11+08:00', 'author': 'RAOHA BIN MEZBA', 'moddate': '2025-05-19T05:14:11+08:00', 'source': '../Data/EcoHusk_Report.pdf', 'total_pages': 9, 'page': 1, 'page_label': '2'}, page_content='of the gasifiers currently used for rice husk energy production are not environmentally friendly. They \\nuse open combustion, which releases large amounts of carbon dioxide (CO₂) and harmful gases into \\nthe atmosphere. \\nTo solve this problem, our team members who study mechanical engineering and material science \\ncame up with a solution: use a closed combustion system with controlled oxygen levels. This special'),\n",
       " Document(metadata={'producer': 'Microsoft® Word 2019', 'creator': 'Microsoft® Word 2019', 'creationdate': '2025-05-19T05:14:11+08:00', 'author': 'RAOHA BIN MEZBA', 'moddate': '2025-05-19T05:14:11+08:00', 'source': '../Data/EcoHusk_Report.pdf', 'total_pages': 9, 'page': 1, 'page_label': '2'}, page_content='type of gasifier does not release significant amounts of CO₂, making it much more eco-friendly. We \\nchose to modify an existing downdraft gasifier by adding a declined suction net inside the pyrolysis \\nzone, which allowed us to collect carbon particles efficiently. These carbon particles can later be \\nprocessed into activated carbon, which is a highly valuable material used in batteries and medical \\nfilters.  \\nResearch Tools and Design Process'),\n",
       " Document(metadata={'producer': 'Microsoft® Word 2019', 'creator': 'Microsoft® Word 2019', 'creationdate': '2025-05-19T05:14:11+08:00', 'author': 'RAOHA BIN MEZBA', 'moddate': '2025-05-19T05:14:11+08:00', 'source': '../Data/EcoHusk_Report.pdf', 'total_pages': 9, 'page': 1, 'page_label': '2'}, page_content='To support our concept with global insights, we studied various rice husk power plants in countries \\nlike India, Nigeria, and the Philippines. This helped us understand what worked and what didn’t in \\nthose regions. We then used SolidWorks to design a complete 3D model of our EcoHusk ecosystem.'),\n",
       " Document(metadata={'producer': 'Microsoft® Word 2019', 'creator': 'Microsoft® Word 2019', 'creationdate': '2025-05-19T05:14:11+08:00', 'author': 'RAOHA BIN MEZBA', 'moddate': '2025-05-19T05:14:11+08:00', 'source': '../Data/EcoHusk_Report.pdf', 'total_pages': 9, 'page': 2, 'page_label': '3'}, page_content='Every machine and component — from the gasifier to the water treatment units and brick \\nproduction equipment — was carefully modeled and visualized. \\nWe also used 3D printing to create physical models of the entire system, which helped us explain \\nthe concept clearly in exhibitions and competitions. These visual representations made it easier for \\nothers to understand how each part of the system fits into the bigger picture and contributes to a \\nzero-waste circular economy.'),\n",
       " Document(metadata={'producer': 'Microsoft® Word 2019', 'creator': 'Microsoft® Word 2019', 'creationdate': '2025-05-19T05:14:11+08:00', 'author': 'RAOHA BIN MEZBA', 'moddate': '2025-05-19T05:14:11+08:00', 'source': '../Data/EcoHusk_Report.pdf', 'total_pages': 9, 'page': 2, 'page_label': '3'}, page_content='zero-waste circular economy. \\nIn short, our research and development process involved brainstorming, technical innovation, \\ndesign, and collaboration — all aimed at building a cleaner, smarter, and more sustainable future \\nusing rice husk. \\n \\n3. Technical Approach \\nThe EcoHusk project is based on a smart, closed-loop system that transforms rice husk — an \\nagricultural by-product — into multiple useful outputs without creating any waste. The entire'),\n",
       " Document(metadata={'producer': 'Microsoft® Word 2019', 'creator': 'Microsoft® Word 2019', 'creationdate': '2025-05-19T05:14:11+08:00', 'author': 'RAOHA BIN MEZBA', 'moddate': '2025-05-19T05:14:11+08:00', 'source': '../Data/EcoHusk_Report.pdf', 'total_pages': 9, 'page': 2, 'page_label': '3'}, page_content='ecosystem is designed to be sustainable, efficient, and environmentally friendly. The process is \\ndivided into five key stages: \\n \\n Step 1: Modified Downdraft Gasification Process \\nThe process starts with collecting rice husks, which are sent into a specially modified downdraft \\ngasifier. In this stage: \\n• A closed combustion system with a controlled oxygen environment is used instead of \\ntraditional open burning. \\n• This helps minimize CO₂ emissions and environmental pollution.'),\n",
       " Document(metadata={'producer': 'Microsoft® Word 2019', 'creator': 'Microsoft® Word 2019', 'creationdate': '2025-05-19T05:14:11+08:00', 'author': 'RAOHA BIN MEZBA', 'moddate': '2025-05-19T05:14:11+08:00', 'source': '../Data/EcoHusk_Report.pdf', 'total_pages': 9, 'page': 2, 'page_label': '3'}, page_content='• Inside the pyrolysis zone, we’ve installed a declined suction net to collect carbon particles, \\nwhich would otherwise be wasted or pollute the air. \\n• The gasification process produces: \\no Unprocessed syngas \\no Carbon particles \\no Rice Husk Ash (RHA) \\n \\nStep 2: Electricity Generation & Nitrogen Separation \\nThe unprocessed syngas produced in Step 1 is then processed in the following way: \\n• It enters a cyclone separator, which extracts pure nitrogen gas.'),\n",
       " Document(metadata={'producer': 'Microsoft® Word 2019', 'creator': 'Microsoft® Word 2019', 'creationdate': '2025-05-19T05:14:11+08:00', 'author': 'RAOHA BIN MEZBA', 'moddate': '2025-05-19T05:14:11+08:00', 'source': '../Data/EcoHusk_Report.pdf', 'total_pages': 9, 'page': 2, 'page_label': '3'}, page_content='• The purified syngas is then fed into a gas turbine, where it is burned to generate renewable \\nelectricity. \\n• The system can produce approximately 1.6–1.8 kilowatt-hours per kilogram of rice husk, \\nadding up to around 32 terawatt-hours per year on a national scale of China.'),\n",
       " Document(metadata={'producer': 'Microsoft® Word 2019', 'creator': 'Microsoft® Word 2019', 'creationdate': '2025-05-19T05:14:11+08:00', 'author': 'RAOHA BIN MEZBA', 'moddate': '2025-05-19T05:14:11+08:00', 'source': '../Data/EcoHusk_Report.pdf', 'total_pages': 9, 'page': 3, 'page_label': '4'}, page_content='Step 3: Activated Carbon Production \\n• The carbon particles collected in the pyrolysis zone are sent to a carbon activation plant. \\n• Here, they are thermally treated to create high-quality activated carbon. \\n• This material has important industrial uses — especially in battery production, medical \\nfiltration, and air/water purification systems. \\nStep 4: Water Purification Using Rice Husk Ash \\n• The RHA (Rice Husk Ash) collected during gasification is used in water treatment plants.'),\n",
       " Document(metadata={'producer': 'Microsoft® Word 2019', 'creator': 'Microsoft® Word 2019', 'creationdate': '2025-05-19T05:14:11+08:00', 'author': 'RAOHA BIN MEZBA', 'moddate': '2025-05-19T05:14:11+08:00', 'source': '../Data/EcoHusk_Report.pdf', 'total_pages': 9, 'page': 3, 'page_label': '4'}, page_content='• Thanks to its high silicon dioxide (SiO₂) content, RHA can remove salt and other impurities \\nfrom water. \\n• It can reduce water salinity from 35,000 ppm (seawater level) to below 500 ppm, making it \\nsuitable for drinking, especially in coastal areas. \\nStep 5: RHA Brick and Concrete Production \\n• After water purification, the used RHA is dried in a drying chamber. \\n• The dry ash is then used to make eco-friendly bricks and concrete mixtures (for its'),\n",
       " Document(metadata={'producer': 'Microsoft® Word 2019', 'creator': 'Microsoft® Word 2019', 'creationdate': '2025-05-19T05:14:11+08:00', 'author': 'RAOHA BIN MEZBA', 'moddate': '2025-05-19T05:14:11+08:00', 'source': '../Data/EcoHusk_Report.pdf', 'total_pages': 9, 'page': 3, 'page_label': '4'}, page_content='pozzolanic properties) rather then throwing them away in the environment. \\n• Replacing 50% of cement with RHA: \\no Reduces concrete production cost by 25% \\no Increases durability \\no Lowers indoor temperature by up to 6°C \\no Reduces noise by 10 dB \\no Maintains a water absorption rate of just 19% of its own weight \\nWhat makes this approach unique is that every by-product is reused:'),\n",
       " Document(metadata={'producer': 'Microsoft® Word 2019', 'creator': 'Microsoft® Word 2019', 'creationdate': '2025-05-19T05:14:11+08:00', 'author': 'RAOHA BIN MEZBA', 'moddate': '2025-05-19T05:14:11+08:00', 'source': '../Data/EcoHusk_Report.pdf', 'total_pages': 9, 'page': 4, 'page_label': '5'}, page_content='• The syngas gives electricity \\n• The carbon becomes activated carbon \\n• The RHA purifies water \\n• The used RHA is recycled into bricks \\nAll technologies used in this ecosystem are either already available or can be manufactured \\nusing machines easily sourced in China. The process is fully scalable, adaptable for both \\nrural and industrial setups, and designed to support both environmental protection and \\neconomic growth. \\n \\n4. Technical Advantages'),\n",
       " Document(metadata={'producer': 'Microsoft® Word 2019', 'creator': 'Microsoft® Word 2019', 'creationdate': '2025-05-19T05:14:11+08:00', 'author': 'RAOHA BIN MEZBA', 'moddate': '2025-05-19T05:14:11+08:00', 'source': '../Data/EcoHusk_Report.pdf', 'total_pages': 9, 'page': 4, 'page_label': '5'}, page_content='4. Technical Advantages \\nThe EcoHusk system is not just a new method — it is a technological upgrade that offers multiple \\nadvantages over traditional rice husk usage and existing biomass energy systems. It combines energy \\nproduction, material recycling, and environmental protection in a single integrated process. \\nHere are the key technical advantages: \\n \\n1. Zero-Waste Ecosystem \\nUnlike conventional systems that produce waste or harmful by-products, EcoHusk creates a circular \\necosystem:'),\n",
       " Document(metadata={'producer': 'Microsoft® Word 2019', 'creator': 'Microsoft® Word 2019', 'creationdate': '2025-05-19T05:14:11+08:00', 'author': 'RAOHA BIN MEZBA', 'moddate': '2025-05-19T05:14:11+08:00', 'source': '../Data/EcoHusk_Report.pdf', 'total_pages': 9, 'page': 4, 'page_label': '5'}, page_content='ecosystem: \\n• Every stage produces something valuable. \\n• All by-products are reused in other stages (e.g., used ash becomes construction material). \\n• This ensures no part of the rice husk goes to waste. \\n2. Closed Combustion = Minimal Emissions \\nTraditional rice husk combustion methods release carbon dioxide and pollutants into the air, \\ncontributing to climate change and air pollution. In contrast: \\n• EcoHusk uses a closed combustion system in a controlled oxygen environment.'),\n",
       " Document(metadata={'producer': 'Microsoft® Word 2019', 'creator': 'Microsoft® Word 2019', 'creationdate': '2025-05-19T05:14:11+08:00', 'author': 'RAOHA BIN MEZBA', 'moddate': '2025-05-19T05:14:11+08:00', 'source': '../Data/EcoHusk_Report.pdf', 'total_pages': 9, 'page': 4, 'page_label': '5'}, page_content='• This significantly reduces CO₂ emissions and prevents the release of harmful gases. \\n3. Advanced Gasifier Technology \\n• The system uses a modified downdraft gasifier with an added declined suction net to \\ncollect carbon particles. \\n• Most existing systems do not collect these carbon particles, which results in material loss \\nand pollution. \\n• EcoHusk converts this carbon into activated carbon, a high-value product. \\n4. Multi-Stage Output: Energy + Clean Water + Materials'),\n",
       " Document(metadata={'producer': 'Microsoft® Word 2019', 'creator': 'Microsoft® Word 2019', 'creationdate': '2025-05-19T05:14:11+08:00', 'author': 'RAOHA BIN MEZBA', 'moddate': '2025-05-19T05:14:11+08:00', 'source': '../Data/EcoHusk_Report.pdf', 'total_pages': 9, 'page': 4, 'page_label': '5'}, page_content='Most rice husk-based power systems focus only on electricity. But EcoHusk goes further:'),\n",
       " Document(metadata={'producer': 'Microsoft® Word 2019', 'creator': 'Microsoft® Word 2019', 'creationdate': '2025-05-19T05:14:11+08:00', 'author': 'RAOHA BIN MEZBA', 'moddate': '2025-05-19T05:14:11+08:00', 'source': '../Data/EcoHusk_Report.pdf', 'total_pages': 9, 'page': 5, 'page_label': '6'}, page_content='• Produces electricity, nitrogen gas, activated carbon, clean water, and eco-bricks — all from \\none input. \\n• This multi-output design increases the economic and environmental value of the system. \\n5. Enhanced Building Materials \\n• Traditional bricks require a lot of cement and contribute to CO₂ emissions during production. \\n• EcoHusk bricks, made with rice husk ash, are lighter, more durable, and more eco-friendly. \\n• Benefits include: \\no 25% cost savings'),\n",
       " Document(metadata={'producer': 'Microsoft® Word 2019', 'creator': 'Microsoft® Word 2019', 'creationdate': '2025-05-19T05:14:11+08:00', 'author': 'RAOHA BIN MEZBA', 'moddate': '2025-05-19T05:14:11+08:00', 'source': '../Data/EcoHusk_Report.pdf', 'total_pages': 9, 'page': 5, 'page_label': '6'}, page_content='o 25% cost savings \\no Lower indoor temperature (up to 6°C) \\no Noise reduction (10 dB) \\no Lower water absorption (19%) \\n6. Scalability & Local Suitability \\n• All required machines (gasifiers, turbines, separators, drying chambers, etc.) are already \\navailable in countries like China and India. \\n• This makes the system easy to implement and scale, especially in rice-producing regions. \\n• Since China and Bangladesh both generate millions of tons of rice husk annually, this system'),\n",
       " Document(metadata={'producer': 'Microsoft® Word 2019', 'creator': 'Microsoft® Word 2019', 'creationdate': '2025-05-19T05:14:11+08:00', 'author': 'RAOHA BIN MEZBA', 'moddate': '2025-05-19T05:14:11+08:00', 'source': '../Data/EcoHusk_Report.pdf', 'total_pages': 9, 'page': 5, 'page_label': '6'}, page_content='has huge local and national potential. \\nIn summary, EcoHusk stands out because it’s not just about producing energy — it’s about doing it \\ncleanly, efficiently, and sustainably, while also creating useful by-products that support other \\nindustries. It’s an all-in-one solution for a greener future. \\n \\n5. Technical Achievements \\nSo far, our team has successfully completed the initial research and development phase of the'),\n",
       " Document(metadata={'producer': 'Microsoft® Word 2019', 'creator': 'Microsoft® Word 2019', 'creationdate': '2025-05-19T05:14:11+08:00', 'author': 'RAOHA BIN MEZBA', 'moddate': '2025-05-19T05:14:11+08:00', 'source': '../Data/EcoHusk_Report.pdf', 'total_pages': 9, 'page': 5, 'page_label': '6'}, page_content='EcoHusk project. Through teamwork, technical study, design modeling, and strategic planning, we \\nhave built a strong foundation for this innovative, zero-waste ecosystem based on rice husk \\nutilization. \\nA key recognition of our work came in 2024, when our project was awarded the “Best Team Award” \\nat the 第五届中外学生科技创新大赛 (5th China-Foreign Students Scientific Innovation \\nCompetition) held at Yangzhou University. This achievement was a significant milestone for us and'),\n",
       " Document(metadata={'producer': 'Microsoft® Word 2019', 'creator': 'Microsoft® Word 2019', 'creationdate': '2025-05-19T05:14:11+08:00', 'author': 'RAOHA BIN MEZBA', 'moddate': '2025-05-19T05:14:11+08:00', 'source': '../Data/EcoHusk_Report.pdf', 'total_pages': 9, 'page': 5, 'page_label': '6'}, page_content='proved that our idea has real innovation potential and academic value. \\nWhat We’ve Accomplished So Far: \\n• Completed theoretical research on each stage of the ecosystem \\n• Studied global rice husk energy systems and environmental impacts \\n• Designed the entire system in 3D using SolidWorks \\n• Created 3D-printed visual models for demonstration purposes \\n• Identified practical machinery and materials that are available in local markets'),\n",
       " Document(metadata={'producer': 'Microsoft® Word 2019', 'creator': 'Microsoft® Word 2019', 'creationdate': '2025-05-19T05:14:11+08:00', 'author': 'RAOHA BIN MEZBA', 'moddate': '2025-05-19T05:14:11+08:00', 'source': '../Data/EcoHusk_Report.pdf', 'total_pages': 9, 'page': 6, 'page_label': '7'}, page_content='Our Next Steps: \\nWith enough organizational and financial support, we are ready to move forward to the \\nexperimental stage. As part of this, we plan to: \\n• Personally visit rice husk power generation plants in countries like India, Nigeria, and the \\nPhilippines \\n• Collect real-world data, ash samples, and operational feedback \\n• Begin small-scale laboratory experiments to validate the effectiveness of each stage, \\nespecially water purification and activated carbon production'),\n",
       " Document(metadata={'producer': 'Microsoft® Word 2019', 'creator': 'Microsoft® Word 2019', 'creationdate': '2025-05-19T05:14:11+08:00', 'author': 'RAOHA BIN MEZBA', 'moddate': '2025-05-19T05:14:11+08:00', 'source': '../Data/EcoHusk_Report.pdf', 'total_pages': 9, 'page': 6, 'page_label': '7'}, page_content='Most importantly, we have plan to build a small-scale prototype of our modified downdraft \\ngasifier. This prototype will be a working version of our core system and will allow us to: \\n• Test the feasibility of closed combustion in controlled oxygen environments \\n• Validate the effectiveness of carbon particle collection \\n• Analyze the system’s energy efficiency, emission levels, and ash output \\nThis hands-on testing will provide the essential data we need to optimize our model, support'),\n",
       " Document(metadata={'producer': 'Microsoft® Word 2019', 'creator': 'Microsoft® Word 2019', 'creationdate': '2025-05-19T05:14:11+08:00', 'author': 'RAOHA BIN MEZBA', 'moddate': '2025-05-19T05:14:11+08:00', 'source': '../Data/EcoHusk_Report.pdf', 'total_pages': 9, 'page': 6, 'page_label': '7'}, page_content='potential patent applications, and prepare for pilot implementation on a larger scale. \\n \\n6. Economic Benefits \\nOne of the strongest aspects of the EcoHusk project is that it is not only environmentally sustainable \\nbut also economically viable. It transforms agricultural waste into multiple valuable products while \\nreducing costs in construction, energy, and water purification. This makes it highly attractive for'),\n",
       " Document(metadata={'producer': 'Microsoft® Word 2019', 'creator': 'Microsoft® Word 2019', 'creationdate': '2025-05-19T05:14:11+08:00', 'author': 'RAOHA BIN MEZBA', 'moddate': '2025-05-19T05:14:11+08:00', 'source': '../Data/EcoHusk_Report.pdf', 'total_pages': 9, 'page': 6, 'page_label': '7'}, page_content='governments, investors, and communities seeking both economic and ecological returns. \\nLow Cost, High Value \\nOur initial cost analysis shows that the full implementation of the EcoHusk system — including \\ngasifiers, turbines, carbon activation units, water treatment facilities, drying chambers, and brick-\\nmaking tools — would require a total investment of around $350,000 to $500,000. \\nWhile this may seem like a large figure, it is quite cost-effective compared to the long-term value it'),\n",
       " Document(metadata={'producer': 'Microsoft® Word 2019', 'creator': 'Microsoft® Word 2019', 'creationdate': '2025-05-19T05:14:11+08:00', 'author': 'RAOHA BIN MEZBA', 'moddate': '2025-05-19T05:14:11+08:00', 'source': '../Data/EcoHusk_Report.pdf', 'total_pages': 9, 'page': 6, 'page_label': '7'}, page_content='creates: \\n• Electricity from rice husk is renewable and can offset fossil fuel costs. \\n• Activated carbon has a high market demand, especially in battery, healthcare, and water \\npurification industries. \\n• Nitrogen gas is useful in many industrial applications. \\n• Clean drinking water is critical in coastal and water-scarce areas. \\n• Eco-friendly bricks reduce the need for traditional cement, lowering both construction costs \\nand emissions.'),\n",
       " Document(metadata={'producer': 'Microsoft® Word 2019', 'creator': 'Microsoft® Word 2019', 'creationdate': '2025-05-19T05:14:11+08:00', 'author': 'RAOHA BIN MEZBA', 'moddate': '2025-05-19T05:14:11+08:00', 'source': '../Data/EcoHusk_Report.pdf', 'total_pages': 9, 'page': 6, 'page_label': '7'}, page_content='and emissions. \\nTogether, these outputs not only reduce environmental impact but also generate multiple income \\nstreams.'),\n",
       " Document(metadata={'producer': 'Microsoft® Word 2019', 'creator': 'Microsoft® Word 2019', 'creationdate': '2025-05-19T05:14:11+08:00', 'author': 'RAOHA BIN MEZBA', 'moddate': '2025-05-19T05:14:11+08:00', 'source': '../Data/EcoHusk_Report.pdf', 'total_pages': 9, 'page': 7, 'page_label': '8'}, page_content='Strong Return on Investment (ROI) \\n• Using just the rice husk waste that is otherwise dumped or burned, our system can produce \\nup to 32 terawatt-hours of electricity per year on a national scale (e.g., in China or \\nBangladesh). \\n• Replacing 50% of cement with rice husk ash in concrete reduces production cost by around \\n25%. \\n• Bricks made from RHA offer better insulation and durability, which can lower cooling and \\nmaintenance costs for buildings.'),\n",
       " Document(metadata={'producer': 'Microsoft® Word 2019', 'creator': 'Microsoft® Word 2019', 'creationdate': '2025-05-19T05:14:11+08:00', 'author': 'RAOHA BIN MEZBA', 'moddate': '2025-05-19T05:14:11+08:00', 'source': '../Data/EcoHusk_Report.pdf', 'total_pages': 9, 'page': 7, 'page_label': '8'}, page_content='The system also reduces the costs of waste management, which is a major expense in agricultural \\nand urban areas. \\nMarket Potential \\nThe market potential of EcoHusk is strong in several sectors: \\n• The global demand for activated carbon is rising due to its use in energy storage and \\nmedical products. \\n• The need for water purification is growing rapidly, especially in coastal regions where \\nseawater salinity is high.'),\n",
       " Document(metadata={'producer': 'Microsoft® Word 2019', 'creator': 'Microsoft® Word 2019', 'creationdate': '2025-05-19T05:14:11+08:00', 'author': 'RAOHA BIN MEZBA', 'moddate': '2025-05-19T05:14:11+08:00', 'source': '../Data/EcoHusk_Report.pdf', 'total_pages': 9, 'page': 7, 'page_label': '8'}, page_content='seawater salinity is high. \\n• There is increasing interest in eco-friendly construction materials, such as RHA bricks, \\nbecause of rising cement prices and environmental regulations. \\n• The renewable energy sector continues to expand globally due to sustainability goals and \\nclimate action plans. \\nGiven that all necessary machines and materials are available in China, the project can be \\nimplemented with low logistical barriers and locally sourced technology.'),\n",
       " Document(metadata={'producer': 'Microsoft® Word 2019', 'creator': 'Microsoft® Word 2019', 'creationdate': '2025-05-19T05:14:11+08:00', 'author': 'RAOHA BIN MEZBA', 'moddate': '2025-05-19T05:14:11+08:00', 'source': '../Data/EcoHusk_Report.pdf', 'total_pages': 9, 'page': 7, 'page_label': '8'}, page_content='Scalability and Funding Opportunities \\nOur system is designed to be scalable — it can be adapted to small rural villages or large industrial \\nzones. This opens up opportunities for: \\n• Government grants in green energy and rural development \\n• Private sector investment in renewable energy and construction \\n• International support from sustainability-focused organizations \\nWith initial funding, we can begin building a pilot project or demonstration facility. This would help'),\n",
       " Document(metadata={'producer': 'Microsoft® Word 2019', 'creator': 'Microsoft® Word 2019', 'creationdate': '2025-05-19T05:14:11+08:00', 'author': 'RAOHA BIN MEZBA', 'moddate': '2025-05-19T05:14:11+08:00', 'source': '../Data/EcoHusk_Report.pdf', 'total_pages': 9, 'page': 7, 'page_label': '8'}, page_content='attract further investment, validate our economic model, and open doors to commercial expansion.')]"
      ]
     },
     "execution_count": 11,
     "metadata": {},
     "output_type": "execute_result"
    }
   ],
   "source": [
    "text_chunks"
   ]
  },
  {
   "cell_type": "code",
   "execution_count": null,
   "id": "c2159cec",
   "metadata": {},
   "outputs": [],
   "source": [
    "import os\n",
    "from dotenv import load_dotenv\n",
    "from pinecone import Pinecone, ServerlessSpec\n",
    "\n",
    "# Load API key from environment\n",
    "load_dotenv()\n",
    "PINECONE_API_KEY = os.environ.get(\"PINECONE_API_KEY\")\n",
    "\n",
    "# Create Pinecone client\n",
    "pc = Pinecone(api_key=PINECONE_API_KEY)\n",
    "\n",
    "# Create index if it doesn't exist\n",
    "index_name = \"ecohusk\"\n",
    "if index_name not in pc.list_indexes().names():\n",
    "    pc.create_index(\n",
    "        name=index_name,\n",
    "        dimension=384,\n",
    "        metric=\"cosine\",\n",
    "        spec=ServerlessSpec(cloud=\"aws\", region=\"us-east-1\")\n",
    "    )\n",
    "\n",
    "# Connect to the index\n",
    "index = pc.Index(index_name)\n"
   ]
  },
  {
   "cell_type": "code",
   "execution_count": 12,
   "id": "8de670d3",
   "metadata": {},
   "outputs": [],
   "source": [
    "from langchain_community.embeddings import HuggingFaceEmbeddings\n",
    "\n",
    "embeddings_model = HuggingFaceEmbeddings(model_name=\"sentence-transformers/all-MiniLM-L6-v2\")\n",
    "embedded_texts = embeddings_model.embed_documents([chunk.page_content for chunk in text_chunks])"
   ]
  },
  {
   "cell_type": "code",
   "execution_count": null,
   "id": "70f6992b",
   "metadata": {},
   "outputs": [
    {
     "data": {
      "text/plain": [
       "{'upserted_count': 42}"
      ]
     },
     "execution_count": 66,
     "metadata": {},
     "output_type": "execute_result"
    }
   ],
   "source": [
    "# Prepare items as (id, vector, metadata) tuples\n",
    "items = [\n",
    "    {\n",
    "        \"id\": f\"chunk-{i}\",\n",
    "        \"values\": embedded_texts[i],\n",
    "        \"metadata\": {\"text\": text_chunks[i].page_content}\n",
    "    }\n",
    "    for i in range(len(text_chunks))\n",
    "]\n",
    "\n",
    "# Upsert in batches\n",
    "index.upsert(vectors=items)"
   ]
  },
  {
   "cell_type": "code",
   "execution_count": 14,
   "id": "4ef749f6",
   "metadata": {},
   "outputs": [],
   "source": [
    "# #downloading embedding model (Method-2)\n",
    "# from langchain_community.embeddings import HuggingFaceEmbeddings\n",
    "\n",
    "# def download_hugging_face_embeddings():\n",
    "#     embeddings = HuggingFaceEmbeddings(model_name=\"sentence-transformers/all-MiniLM-L6-v2\")\n",
    "#     return embeddings"
   ]
  },
  {
   "cell_type": "code",
   "execution_count": 13,
   "id": "0f82d40d",
   "metadata": {},
   "outputs": [],
   "source": [
    "# (Method-2)\n",
    "# embeddings= download_hugging_face_embeddings()"
   ]
  },
  {
   "cell_type": "code",
   "execution_count": 54,
   "id": "9bf696c8",
   "metadata": {},
   "outputs": [],
   "source": [
    "# Load Existing Index\n",
    "from langchain_pinecone import PineconeVectorStore\n",
    "\n",
    "docsearch= PineconeVectorStore.from_existing_index(\n",
    "    index_name=index_name,\n",
    "    embedding=embeddings_model,\n",
    ")"
   ]
  },
  {
   "cell_type": "code",
   "execution_count": 52,
   "id": "8f1a21c0",
   "metadata": {},
   "outputs": [],
   "source": [
    "retriver= docsearch.as_retriever(search_type=\"similarity\", search_kwargs={\"k\": 3})"
   ]
  },
  {
   "cell_type": "code",
   "execution_count": 34,
   "id": "e26693ef",
   "metadata": {},
   "outputs": [],
   "source": [
    "retrieved_docs= retriver.invoke(\"What is EcoHusk?\")"
   ]
  },
  {
   "cell_type": "code",
   "execution_count": 35,
   "id": "37655aee",
   "metadata": {},
   "outputs": [
    {
     "data": {
      "text/plain": [
       "[Document(id='chunk-28', metadata={}, page_content='has huge local and national potential. \\nIn summary, EcoHusk stands out because it’s not just about producing energy — it’s about doing it \\ncleanly, efficiently, and sustainably, while also creating useful by-products that support other \\nindustries. It’s an all-in-one solution for a greener future. \\n \\n5. Technical Achievements \\nSo far, our team has successfully completed the initial research and development phase of the'),\n",
       " Document(id='chunk-7', metadata={}, page_content='market, implementing this project here is very much possible and cost-effective. \\nIn short, EcoHusk is a powerful and practical solution that turns agricultural waste into \\nvaluable resources, supports sustainability, reduces pollution, and promotes a cleaner future \\nfor both Bangladesh, China, and many other rice-producing countries. \\n \\n2. Research & Development Process \\nOnce the idea of EcoHusk took shape, I shared it with my team members, and we began discussing'),\n",
       " Document(id='chunk-33', metadata={}, page_content='potential patent applications, and prepare for pilot implementation on a larger scale. \\n \\n6. Economic Benefits \\nOne of the strongest aspects of the EcoHusk project is that it is not only environmentally sustainable \\nbut also economically viable. It transforms agricultural waste into multiple valuable products while \\nreducing costs in construction, energy, and water purification. This makes it highly attractive for')]"
      ]
     },
     "execution_count": 35,
     "metadata": {},
     "output_type": "execute_result"
    }
   ],
   "source": [
    "retrieved_docs"
   ]
  },
  {
   "cell_type": "code",
   "execution_count": 36,
   "id": "570ef016",
   "metadata": {},
   "outputs": [
    {
     "data": {
      "text/plain": [
       "True"
      ]
     },
     "execution_count": 36,
     "metadata": {},
     "output_type": "execute_result"
    }
   ],
   "source": [
    "from dotenv import load_dotenv\n",
    "import os\n",
    "\n",
    "load_dotenv()"
   ]
  },
  {
   "cell_type": "code",
   "execution_count": 37,
   "id": "ed19aa12",
   "metadata": {},
   "outputs": [],
   "source": [
    "from langchain_openai import OpenAI\n",
    "llm= OpenAI(temperature=0.4, max_tokens=500)"
   ]
  },
  {
   "cell_type": "code",
   "execution_count": 38,
   "id": "a36f78dc",
   "metadata": {},
   "outputs": [],
   "source": [
    "from langchain.chains import create_retrieval_chain\n",
    "from langchain.chains.combine_documents import create_stuff_documents_chain\n",
    "from langchain_core.prompts import ChatPromptTemplate\n",
    "\n",
    "system_prompt = (\n",
    "    \"You are an expert assistant for answering questions about the EcoHusk Project. \"\n",
    "    \"Use the provided context from EcoHusk documents and your own knowledge to answer the question. \"\n",
    "    \"If you are asked about any data or information you can use the reference of the EcoHusk documents to answer. But avoid answering something completely new or which does not belongs to EcoHusk documents. \"\n",
    "    \"If the answer is not in the context, say 'I'm sorry, I'm not aware of this matter. Please contact with the Project Leader. \\nContact Details:\\nRAOHA BIN MEJBA (李一含)\\nEmail: raohamejba@gmail.com' \"\n",
    "    \"If the question is not related to EcoHusk project, say 'Sorry! I think this question is not related to EcoHusk. Please ask something else. Thank you. \"\n",
    "    \"Be clear, factual, and limit your answer to less than 10 concise sentences.\\n\\n\"\n",
    "    \"{context}\"\n",
    ")\n",
    "\n",
    "prompt = ChatPromptTemplate.from_messages(\n",
    "    [\n",
    "        (\"system\", system_prompt),\n",
    "        (\"human\", \"{input}\"),\n",
    "    ]\n",
    ")"
   ]
  },
  {
   "cell_type": "code",
   "execution_count": 53,
   "id": "78e861f9",
   "metadata": {},
   "outputs": [],
   "source": [
    "question_answer_chain = create_stuff_documents_chain(llm, prompt)\n",
    "rag_chain = create_retrieval_chain(retriver, question_answer_chain)"
   ]
  },
  {
   "cell_type": "code",
   "execution_count": 43,
   "id": "bbf2935a",
   "metadata": {},
   "outputs": [
    {
     "name": "stdout",
     "output_type": "stream",
     "text": [
      "\n",
      "Sorry! I think this question is not related to EcoHusk. Please ask something else. Thank you.\n"
     ]
    }
   ],
   "source": [
    "response = rag_chain.invoke({\"input\": \"What is Football?\"})\n",
    "print(response['answer'])"
   ]
  },
  {
   "cell_type": "code",
   "execution_count": 44,
   "id": "f1cb41ee",
   "metadata": {},
   "outputs": [
    {
     "name": "stdout",
     "output_type": "stream",
     "text": [
      "\n",
      "\n",
      "The initial cost analysis shows that the full implementation of the EcoHusk system would require a total investment of around $350,000 to $500,000. This includes gasifiers, turbines, carbon activation units, water treatment facilities, drying chambers, and brick-making tools. However, compared to the long-term value it provides, this is a cost-effective investment.\n"
     ]
    }
   ],
   "source": [
    "response = rag_chain.invoke({\"input\": \"What is the implementation cost of EcoHusk?\"})\n",
    "print(response['answer'])"
   ]
  },
  {
   "cell_type": "code",
   "execution_count": 45,
   "id": "feaee9d5",
   "metadata": {},
   "outputs": [
    {
     "name": "stdout",
     "output_type": "stream",
     "text": [
      "\n",
      "\n",
      "The EcoHusk system has the potential to purify a significant amount of water, especially in coastal regions where seawater salinity is high. However, the exact amount of water that can be purified will depend on the specific implementation and scale of the project. Further research and pilot implementation will be needed to determine the exact water purification capabilities of EcoHusk.\n"
     ]
    }
   ],
   "source": [
    "response = rag_chain.invoke({\"input\": \"How much water can EcoHusk purify?\"})\n",
    "print(response['answer'])"
   ]
  },
  {
   "cell_type": "code",
   "execution_count": 46,
   "id": "eb7c7522",
   "metadata": {},
   "outputs": [
    {
     "name": "stdout",
     "output_type": "stream",
     "text": [
      "\n",
      "\n",
      "EcoHusk does not have any negative impact on the environment. In fact, it is designed to be environmentally sustainable and reduce waste management costs. It also helps with water purification, which is especially important in coastal regions with high seawater salinity. EcoHusk is an all-in-one solution for a greener future and has huge local and national potential.\n"
     ]
    }
   ],
   "source": [
    "response = rag_chain.invoke({\"input\": \"Does EcoHusk have any negative impact on the environment?\"})\n",
    "print(response['answer'])"
   ]
  },
  {
   "cell_type": "code",
   "execution_count": 51,
   "id": "ebab1fe5",
   "metadata": {},
   "outputs": [
    {
     "name": "stdout",
     "output_type": "stream",
     "text": [
      "\n",
      "\n",
      "System: The team members of EcoHusk are not specified in the provided context. Please contact the Project Leader, RAOHA BIN MEJBA, for more information.\n"
     ]
    }
   ],
   "source": [
    "response = rag_chain.invoke({\"input\": \"Who are the team members of EcoHusk?\"})\n",
    "print(response['answer'])"
   ]
  },
  {
   "cell_type": "code",
   "execution_count": 48,
   "id": "7ce135f9",
   "metadata": {},
   "outputs": [
    {
     "name": "stdout",
     "output_type": "stream",
     "text": [
      "\n",
      "\n",
      "I'm sorry, I'm not aware of this matter. Please contact with the Project Leader. \n",
      "Contact Details:\n",
      "RAOHA BIN MEJBA (李一含)\n",
      "Email: raohamejba@gmail.com\n"
     ]
    }
   ],
   "source": [
    "response = rag_chain.invoke({\"input\": \"What is the age of RAOHA BIN MEJBA?\"})\n",
    "print(response['answer'])"
   ]
  },
  {
   "cell_type": "code",
   "execution_count": null,
   "id": "9c3ad162",
   "metadata": {},
   "outputs": [],
   "source": []
  }
 ],
 "metadata": {
  "kernelspec": {
   "display_name": "EcoHusk4",
   "language": "python",
   "name": "python3"
  },
  "language_info": {
   "codemirror_mode": {
    "name": "ipython",
    "version": 3
   },
   "file_extension": ".py",
   "mimetype": "text/x-python",
   "name": "python",
   "nbconvert_exporter": "python",
   "pygments_lexer": "ipython3",
   "version": "3.10.16"
  }
 },
 "nbformat": 4,
 "nbformat_minor": 5
}
